{
 "cells": [
  {
   "cell_type": "markdown",
   "metadata": {},
   "source": [
    "# Welcome to this programming assignment\n",
    "During week 1 we covered some basic numpy methods to perform basic calculations in Python. In this notebook you will be asked to complete some problems dealing with matrix and vector operations. There will be comments along the way to help you successfully complete this assignment. Good luck!\n",
    "\n",
    "Check the [documentation](https://numpy.org/doc/1.17/reference/index.html) to find out more information about the library and methods it provides."
   ]
  },
  {
   "cell_type": "code",
   "execution_count": 1,
   "metadata": {},
   "outputs": [],
   "source": [
    "import numpy as np\n",
    "import numpy.linalg as LA"
   ]
  },
  {
   "cell_type": "code",
   "execution_count": 4,
   "metadata": {},
   "outputs": [],
   "source": [
    "import sys\n",
    "sys.path.append(\"../..\")\n",
    "import grading\n",
    "grader = grading.Grader(assignment_key=\"SUnezfGNSfuBGywxR1x3kw\", \n",
    "                      all_parts=[\"oohre\", \"d5W4Z\", \"1dGYq\", \"Eb5LM\", \"GFVMa\", \"p8zU3\", \"Gcwjk\"])"
   ]
  },
  {
   "cell_type": "code",
   "execution_count": 9,
   "metadata": {},
   "outputs": [],
   "source": [
    "# token expires every 30 min\n",
    "COURSERA_TOKEN = 'Qhre3YDLcubCDL3N'\n",
    "COURSERA_EMAIL = 'chihyu.jimmy.yeh@gmail.com'"
   ]
  },
  {
   "cell_type": "markdown",
   "metadata": {},
   "source": [
    "## Task 1\n",
    "Find the sum of all elements in an array. See [here](https://docs.scipy.org/doc/numpy/reference/generated/numpy.sum.html) for reference."
   ]
  },
  {
   "cell_type": "code",
   "execution_count": 5,
   "metadata": {},
   "outputs": [
    {
     "data": {
      "text/plain": [
       "array([[ 1, 13,  4,  5, -6],\n",
       "       [-9,  4, 12,  0,  2],\n",
       "       [45,  4,  3,  2,  1],\n",
       "       [ 3, -9, 15,  6, 22],\n",
       "       [ 3,  5,  0, -7, 12]])"
      ]
     },
     "execution_count": 5,
     "metadata": {},
     "output_type": "execute_result"
    }
   ],
   "source": [
    "A = np.array([[1,13,4,5, -6],[-9,4,12,0,2],[45,4,3,2,1], [3,-9,15,6,22],[3,5,0,-7,12]])\n",
    "A"
   ]
  },
  {
   "cell_type": "code",
   "execution_count": 7,
   "metadata": {},
   "outputs": [
    {
     "data": {
      "text/plain": [
       "131"
      ]
     },
     "execution_count": 7,
     "metadata": {},
     "output_type": "execute_result"
    }
   ],
   "source": [
    "ans1 = np.sum(A)\n",
    "ans1"
   ]
  },
  {
   "cell_type": "code",
   "execution_count": 8,
   "metadata": {},
   "outputs": [],
   "source": [
    "## GRADED PART, DO NOT CHANGE!\n",
    "grader.set_answer(\"oohre\", ans1)"
   ]
  },
  {
   "cell_type": "code",
   "execution_count": 10,
   "metadata": {},
   "outputs": [
    {
     "name": "stdout",
     "output_type": "stream",
     "text": [
      "Submitted to Coursera platform. See results on assignment page!\n"
     ]
    }
   ],
   "source": [
    "# you can make submission with answers so far to check yourself at this stage\n",
    "grader.submit(COURSERA_EMAIL, COURSERA_TOKEN)"
   ]
  },
  {
   "cell_type": "markdown",
   "metadata": {},
   "source": [
    "## Task 2\n",
    "Calculate the difference between matrices m1 and m2."
   ]
  },
  {
   "cell_type": "code",
   "execution_count": 13,
   "metadata": {},
   "outputs": [],
   "source": [
    "m1 = np.array([[-7, -6,  3, -5],\n",
    "       [ 7,  0,  4,  0],\n",
    "       [ 6, -1,  1,  1]])\n",
    "m2 = np.array([[  6,  -7,  -3,  -9],\n",
    "       [ -8,   1,  -4,   2],\n",
    "       [-10,   1,  -7,   9]])"
   ]
  },
  {
   "cell_type": "code",
   "execution_count": 14,
   "metadata": {},
   "outputs": [],
   "source": [
    "ans2 = m1 - m2"
   ]
  },
  {
   "cell_type": "code",
   "execution_count": 15,
   "metadata": {},
   "outputs": [],
   "source": [
    "## GRADED PART, DO NOT CHANGE!\n",
    "ans2 = ans2.flatten()\n",
    "grader.set_answer(\"d5W4Z\", ans2)"
   ]
  },
  {
   "cell_type": "code",
   "execution_count": 16,
   "metadata": {},
   "outputs": [
    {
     "name": "stdout",
     "output_type": "stream",
     "text": [
      "Submitted to Coursera platform. See results on assignment page!\n"
     ]
    }
   ],
   "source": [
    "# you can make submission with answers so far to check yourself at this stage\n",
    "grader.submit(COURSERA_EMAIL, COURSERA_TOKEN)"
   ]
  },
  {
   "cell_type": "markdown",
   "metadata": {},
   "source": [
    "## Task 3\n",
    "Find the sum of all matrix elements whose absolute value is greater than 5. You can use a $\\textit{for}$ loop, but try using numpy methods (i.e. [this](https://docs.scipy.org/doc/numpy/reference/generated/numpy.where.html)), since the numpy library is very fast and effective in manipulating data."
   ]
  },
  {
   "cell_type": "code",
   "execution_count": 17,
   "metadata": {},
   "outputs": [],
   "source": [
    "b = np.array([[ -6,  -7,  -5,   0],\n",
    "       [-15,   2, -13,  -5],\n",
    "       [  8,   4,  10,   8],\n",
    "       [ -1,  -9,   7,  -4]])"
   ]
  },
  {
   "cell_type": "code",
   "execution_count": 19,
   "metadata": {},
   "outputs": [],
   "source": [
    "ans3 = np.sum(np.where(abs(b) > 5, b, 0))"
   ]
  },
  {
   "cell_type": "code",
   "execution_count": 20,
   "metadata": {},
   "outputs": [
    {
     "name": "stdout",
     "output_type": "stream",
     "text": [
      "Submitted to Coursera platform. See results on assignment page!\n"
     ]
    }
   ],
   "source": [
    "## GRADED PART, DO NOT CHANGE!\n",
    "grader.set_answer(\"1dGYq\", ans3)\n",
    "# you can make submission with answers so far to check yourself at this stage\n",
    "grader.submit(COURSERA_EMAIL, COURSERA_TOKEN)"
   ]
  },
  {
   "cell_type": "markdown",
   "metadata": {},
   "source": [
    "## Task 4\n",
    "Find the product of two matrices. Remember that it is better to use $\\textit{matmul, or @,}$ for $\\textbf{larger dimension}$ matrices."
   ]
  },
  {
   "cell_type": "code",
   "execution_count": 21,
   "metadata": {},
   "outputs": [],
   "source": [
    "n = np.array([[ -4,  -1,   3,  -7,   6,  -9,   5,  -9,  -7,   0],\n",
    "       [-12,   3, -12,  -7,   2,  -4,   8,  13,   9,   3],\n",
    "       [ -2,  -1, -15, -10,   7,   5,   7, -13,  -9,   6],\n",
    "       [  7,  11,  -5,  -6,  -9,  -1,   3,  10, -15,  -6],\n",
    "       [ -3,  -4,   4, -13,   4, -13,  10,  -6,  -8,  13],\n",
    "       [  7, -13,  -4,   3,   4,  13, -13,   4,  -9, -10],\n",
    "       [ -5,  13,  -9, -15,  11,   2,   7, -14, -14,   2],\n",
    "       [ -4,  -6,  12,  10,  13,  -3,  12, -15,   5,  -2],\n",
    "       [ -1,   8,   3,   7,  11,  -3,   6,  12,  12, -13],\n",
    "       [ 12,  11,  12,  11,   1, -14,   2,   6,  -9,  -3]])\n",
    "z = np.array([[-15,   5, -15,  10,  -3,  12,  -6, -15,   6,   3],\n",
    "       [ 12,  -4,   6, -11,   5,   3,   3,  12, -15,  -6],\n",
    "       [-11, -11, -10,   9,  -8, -14, -14,   7,  -2,  11],\n",
    "       [  5,  -4,  11,   0,   8,  -9, -15, -11,   7, -10],\n",
    "       [ -6,  -9,  -3, -13, -11,  -9,   7,  -7,   9,   4],\n",
    "       [ 10,  12,   4,  -7,   1,   0,  -1,  11,  -4,  11],\n",
    "       [-14,   2,  -8,  11,  -9,   5, -14,  10,  -6,  -9],\n",
    "       [ -5,  10, -10,  -1,  -9, -12,  12,  14,   4,   2],\n",
    "       [ -1, -13,  10,  11,  12, -14,   9,  12,  12,  -5],\n",
    "       [  2,   6, -13,  -5,  -2,  -2,   0,  14,   7,  14]])"
   ]
  },
  {
   "cell_type": "code",
   "execution_count": 22,
   "metadata": {},
   "outputs": [
    {
     "data": {
      "text/plain": [
       "((10, 10), (10, 10))"
      ]
     },
     "execution_count": 22,
     "metadata": {},
     "output_type": "execute_result"
    }
   ],
   "source": [
    "n.shape, z.shape"
   ]
  },
  {
   "cell_type": "code",
   "execution_count": 29,
   "metadata": {},
   "outputs": [],
   "source": [
    "ans4 = n @ z"
   ]
  },
  {
   "cell_type": "code",
   "execution_count": 27,
   "metadata": {},
   "outputs": [
    {
     "name": "stdout",
     "output_type": "stream",
     "text": [
      "1.46 µs ± 32.4 ns per loop (mean ± std. dev. of 7 runs, 1000000 loops each)\n"
     ]
    }
   ],
   "source": [
    "%%timeit\n",
    "ans4 = n @ z"
   ]
  },
  {
   "cell_type": "code",
   "execution_count": 28,
   "metadata": {},
   "outputs": [
    {
     "name": "stdout",
     "output_type": "stream",
     "text": [
      "1.87 µs ± 90.2 ns per loop (mean ± std. dev. of 7 runs, 1000000 loops each)\n"
     ]
    }
   ],
   "source": [
    "%%timeit\n",
    "ans4 = np.dot(n, z)"
   ]
  },
  {
   "cell_type": "code",
   "execution_count": 24,
   "metadata": {},
   "outputs": [
    {
     "name": "stdout",
     "output_type": "stream",
     "text": [
      "Submitted to Coursera platform. See results on assignment page!\n"
     ]
    }
   ],
   "source": [
    "## GRADED PART, DO NOT CHANGE!\n",
    "ans4 = ans4.flatten()\n",
    "grader.set_answer(\"Eb5LM\", ans4)\n",
    "# you can make submission with answers so far to check yourself at this stage\n",
    "grader.submit(COURSERA_EMAIL, COURSERA_TOKEN)"
   ]
  },
  {
   "cell_type": "markdown",
   "metadata": {},
   "source": [
    "## Task 5\n",
    "Create an identity matrix of the necessary size and subtract it from A."
   ]
  },
  {
   "cell_type": "code",
   "execution_count": 30,
   "metadata": {},
   "outputs": [
    {
     "data": {
      "text/plain": [
       "array([[  7,   8, -15,   8,  11,   7],\n",
       "       [ -5,  -9,  13,  -3, -15, -11],\n",
       "       [ -3,   0,  10,  -5,   3,  -8],\n",
       "       [ 10,   1,   7, -11,  10,  -3],\n",
       "       [ 11,   9,  -6, -14,  10, -11],\n",
       "       [  6,  -4,  -4,  -9,  -6,  -7]])"
      ]
     },
     "execution_count": 30,
     "metadata": {},
     "output_type": "execute_result"
    }
   ],
   "source": [
    "A = np.array([[  7,   8, -15,   8,  11,   7],\n",
    "       [ -5,  -9,  13,  -3, -15, -11],\n",
    "       [ -3,   0,  10,  -5,   3,  -8],\n",
    "       [ 10,   1,   7, -11,  10,  -3],\n",
    "       [ 11,   9,  -6, -14,  10, -11],\n",
    "       [  6,  -4,  -4,  -9,  -6,  -7]])\n",
    "A"
   ]
  },
  {
   "cell_type": "code",
   "execution_count": 31,
   "metadata": {},
   "outputs": [
    {
     "data": {
      "text/plain": [
       "(6, 6)"
      ]
     },
     "execution_count": 31,
     "metadata": {},
     "output_type": "execute_result"
    }
   ],
   "source": [
    "A.shape"
   ]
  },
  {
   "cell_type": "code",
   "execution_count": 32,
   "metadata": {},
   "outputs": [],
   "source": [
    "ans5 = A - np.identity(6)"
   ]
  },
  {
   "cell_type": "code",
   "execution_count": 33,
   "metadata": {},
   "outputs": [
    {
     "name": "stdout",
     "output_type": "stream",
     "text": [
      "Submitted to Coursera platform. See results on assignment page!\n"
     ]
    }
   ],
   "source": [
    "## GRADED PART, DO NOT CHANGE!\n",
    "ans5 = ans5.flatten()\n",
    "grader.set_answer(\"GFVMa\", ans5)\n",
    "# you can make submission with answers so far to check yourself at this stage\n",
    "grader.submit(COURSERA_EMAIL, COURSERA_TOKEN)"
   ]
  },
  {
   "cell_type": "markdown",
   "metadata": {},
   "source": [
    "## Task 6\n",
    "Find the solution to system Ax = b, use matrix inverse."
   ]
  },
  {
   "cell_type": "code",
   "execution_count": 34,
   "metadata": {},
   "outputs": [],
   "source": [
    "A = np.array([[ 0, -2,  0, -2],\n",
    "       [-2,  0, -4,  4],\n",
    "       [-1, -5, -2,  2],\n",
    "       [ 3, 1, 2,  1]])"
   ]
  },
  {
   "cell_type": "code",
   "execution_count": 35,
   "metadata": {},
   "outputs": [],
   "source": [
    "b = np.array([-4,  1,  4,  2])"
   ]
  },
  {
   "cell_type": "code",
   "execution_count": 36,
   "metadata": {},
   "outputs": [],
   "source": [
    "A_inv = np.linalg.inv(A)\n",
    "x = np.dot(A_inv, b)"
   ]
  },
  {
   "cell_type": "code",
   "execution_count": 37,
   "metadata": {},
   "outputs": [
    {
     "name": "stdout",
     "output_type": "stream",
     "text": [
      "Submitted to Coursera platform. See results on assignment page!\n"
     ]
    }
   ],
   "source": [
    "## GRADED PART, DO NOT CHANGE!\n",
    "grader.set_answer(\"p8zU3\", x)\n",
    "# you can make submission with answers so far to check yourself at this stage\n",
    "grader.submit(COURSERA_EMAIL, COURSERA_TOKEN)"
   ]
  },
  {
   "cell_type": "markdown",
   "metadata": {},
   "source": [
    "## Task 7\n",
    "Find the PLU decomposition and assert that by multiplying the matrices in the decomposition you get the original matrix back. Submit the matrix U as the answer."
   ]
  },
  {
   "cell_type": "code",
   "execution_count": 41,
   "metadata": {},
   "outputs": [],
   "source": [
    "from scipy.linalg import lu"
   ]
  },
  {
   "cell_type": "code",
   "execution_count": 42,
   "metadata": {},
   "outputs": [
    {
     "data": {
      "text/plain": [
       "array([[ 12, -13,   2,   2, -11],\n",
       "       [  1,   4,  11,  11,  -5],\n",
       "       [ 13,  -5,   9,  12,  -2],\n",
       "       [  5, -13,  12,   3,   5],\n",
       "       [ -9,  11,  -1,  -6,  -5]])"
      ]
     },
     "execution_count": 42,
     "metadata": {},
     "output_type": "execute_result"
    }
   ],
   "source": [
    "m = np.array([[ 12, -13,   2,   2, -11],\n",
    "       [  1,   4,  11,  11,  -5],\n",
    "       [ 13,  -5,   9,  12,  -2],\n",
    "       [  5, -13,  12,   3,   5],\n",
    "       [ -9,  11,  -1,  -6,  -5]])\n",
    "m"
   ]
  },
  {
   "cell_type": "code",
   "execution_count": 43,
   "metadata": {},
   "outputs": [],
   "source": [
    "P, L, U = lu(m)"
   ]
  },
  {
   "cell_type": "code",
   "execution_count": 44,
   "metadata": {},
   "outputs": [],
   "source": [
    "assert(np.allclose(((P@L)@U), m)) # check if we get the original matrix"
   ]
  },
  {
   "cell_type": "code",
   "execution_count": 45,
   "metadata": {},
   "outputs": [
    {
     "name": "stdout",
     "output_type": "stream",
     "text": [
      "Submitted to Coursera platform. See results on assignment page!\n"
     ]
    }
   ],
   "source": [
    "## GRADED PART, DO NOT CHANGE!\n",
    "U = U.flatten()\n",
    "grader.set_answer(\"Gcwjk\", U)\n",
    "# you can make submission with answers so far to check yourself at this stage\n",
    "grader.submit(COURSERA_EMAIL, COURSERA_TOKEN)"
   ]
  },
  {
   "cell_type": "code",
   "execution_count": null,
   "metadata": {},
   "outputs": [],
   "source": []
  }
 ],
 "metadata": {
  "kernelspec": {
   "display_name": "Python 3",
   "language": "python",
   "name": "python3"
  },
  "language_info": {
   "codemirror_mode": {
    "name": "ipython",
    "version": 3
   },
   "file_extension": ".py",
   "mimetype": "text/x-python",
   "name": "python",
   "nbconvert_exporter": "python",
   "pygments_lexer": "ipython3",
   "version": "3.6.5"
  }
 },
 "nbformat": 4,
 "nbformat_minor": 4
}
