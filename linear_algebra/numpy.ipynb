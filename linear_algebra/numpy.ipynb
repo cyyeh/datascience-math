{
 "cells": [
  {
   "cell_type": "markdown",
   "metadata": {},
   "source": [
    "# Linear Algebra and Numpy"
   ]
  },
  {
   "cell_type": "markdown",
   "metadata": {},
   "source": [
    "This reading section contains all code examples from the slides we used in Week 1, and gives some additional information on how numpy and other libraries are used to perform calculations. You can copy this code, try running it in your own environment and practice. We covered the following:\n",
    "\n",
    "1. Creating vectors and matrices\n",
    "2. Vector and matrix arithmetics\n",
    "3. Some special matrices with numpy\n",
    "4. Matrix inverse\n",
    "5. Matrix and vector multiplications\n",
    "6. PLU decomposition. Note, that the method for PLU decomposition is from scipy library.\n",
    "\n",
    "The numpy documentation can be found [here](https://docs.scipy.org/doc/numpy/reference/)."
   ]
  },
  {
   "cell_type": "code",
   "execution_count": 11,
   "metadata": {},
   "outputs": [
    {
     "name": "stdout",
     "output_type": "stream",
     "text": [
      "(2, 2)\n"
     ]
    },
    {
     "data": {
      "text/plain": [
       "True"
      ]
     },
     "execution_count": 11,
     "metadata": {},
     "output_type": "execute_result"
    }
   ],
   "source": [
    "import numpy as np\n",
    "#vectors\n",
    "a = np.array([1, 4, 5])\n",
    "b = np.array([-1, 4, 53])\n",
    "c = a + b # c is vector (0, 8, 58 )\n",
    "d = a * b # d is vector (−1, 16, 265)\n",
    "\n",
    "#arrays\n",
    "m1 = np.array([[1, 4], [-5, 8]])\n",
    "m2 = np.array([[7, -6], [-11, 2]])\n",
    "print(m1.shape)\n",
    "# msum is array ([[8, −2], [−16, 10]])\n",
    "msum = m1+m2\n",
    "# product is array ([[−37, 2], [−123, 46]])\n",
    "product = np.dot(m1, m2)\n",
    "\n",
    "#zeros is a null matrix of shape 2x3\n",
    "zeros = np.zeros((2,3))\n",
    "#i is an identity matrix of shape 3x3\n",
    "i = np.identity(3)\n",
    "\n",
    "#matrix inverse and multiplication\n",
    "a = np.array([[-1, 3], [3, 5]])\n",
    "b = np.array([[3], [7]])\n",
    "inv = np.linalg.inv(a)\n",
    "x = np.dot(inv,b)\n",
    "\n",
    "from scipy.linalg import lu\n",
    "B = np.array([[ 0, 0, 1], [0, 2, 2], [3, 0, 4]])\n",
    "# PLU\n",
    "P, L, U = lu(B)\n",
    "# outputs true\n",
    "np.allclose(np.dot(np.dot(P,L), U), B)"
   ]
  },
  {
   "cell_type": "markdown",
   "metadata": {},
   "source": [
    "**Please note, that for higher dimension arrays using numpy.matmult is more preferable.**\n",
    "\n",
    "Below is the example for 2D case."
   ]
  },
  {
   "cell_type": "code",
   "execution_count": 8,
   "metadata": {},
   "outputs": [
    {
     "data": {
      "text/plain": [
       "array([[4, 1],\n",
       "       [2, 2]])"
      ]
     },
     "execution_count": 8,
     "metadata": {},
     "output_type": "execute_result"
    }
   ],
   "source": [
    "a = np.array([[1, 0], [0, 1]])\n",
    "b = np.array([[4, 1], [2, 2]])\n",
    "np.matmul(a, b) # also can be written as a @ b"
   ]
  },
  {
   "cell_type": "code",
   "execution_count": 9,
   "metadata": {},
   "outputs": [
    {
     "data": {
      "text/plain": [
       "array([[4, 1],\n",
       "       [2, 2]])"
      ]
     },
     "execution_count": 9,
     "metadata": {},
     "output_type": "execute_result"
    }
   ],
   "source": [
    "a @ b"
   ]
  },
  {
   "cell_type": "markdown",
   "metadata": {},
   "source": [
    "Numpy arrays are accessed as regular arrays using the [] operator.\n",
    "\n",
    "Moreover, numpy provides many useful methods for matrix elements addition, finding absolute value, generating random matrices, filtering and much more. For example:"
   ]
  },
  {
   "cell_type": "code",
   "execution_count": 10,
   "metadata": {},
   "outputs": [],
   "source": [
    "a = np.array([[1,2],[3,4]])\n",
    "# sum_of_elements is 10\n",
    "sum_of_elements = np.sum(a)\n",
    "\n",
    "k = -9\n",
    "abs_k = np.abs(k) #abs_k is 9\n",
    "\n",
    "# random matrix of size 4x4 with values from -15 to 15\n",
    "m1 = np.random.randint(low=-15,high=15, size=(4, 4))\n",
    "#replace all values that are greater than 0 with 1\n",
    "filted_m1 = np.where(m1 < 0, m1, 1) "
   ]
  },
  {
   "cell_type": "code",
   "execution_count": null,
   "metadata": {},
   "outputs": [],
   "source": []
  }
 ],
 "metadata": {
  "kernelspec": {
   "display_name": "Python 3",
   "language": "python",
   "name": "python3"
  },
  "language_info": {
   "codemirror_mode": {
    "name": "ipython",
    "version": 3
   },
   "file_extension": ".py",
   "mimetype": "text/x-python",
   "name": "python",
   "nbconvert_exporter": "python",
   "pygments_lexer": "ipython3",
   "version": "3.6.5"
  }
 },
 "nbformat": 4,
 "nbformat_minor": 4
}
